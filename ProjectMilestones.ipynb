{
 "cells": [
  {
   "cell_type": "markdown",
   "metadata": {},
   "source": [
    "# Project Milestones"
   ]
  },
  {
   "cell_type": "markdown",
   "metadata": {},
   "source": [
    "---------------"
   ]
  },
  {
   "cell_type": "markdown",
   "metadata": {},
   "source": [
    "## Mar. 24, Milestone 1"
   ]
  },
  {
   "cell_type": "markdown",
   "metadata": {},
   "source": [
    "|Deliverable | Percent Complete | Estimated Completion Date | Percent Complete by Next Milestone |\n",
    "|-----------:|-----------------:|---------------:|-----------:|\n",
    "|Code        |               30%|           Apr 2| 75%        |\n",
    "|Paper| 10%| Apr 21| 30%|\n",
    "|Demo|0%|May 1| 0%|\n",
    "|Presentation|10%|May 5| 20%|"
   ]
  },
  {
   "cell_type": "markdown",
   "metadata": {},
   "source": [
    "## Questions"
   ]
  },
  {
   "cell_type": "markdown",
   "metadata": {},
   "source": [
    "1. So far, we have a project structure setup\n",
    "2. This is the first milestone report.\n",
    "3. Goals each member will work towards:\n",
    " - Nate and Justin: Uniform Replay Memory\n",
    " - Chris: Huber Loss and Utilities \n",
    " - Ian and Jonathan: DQN Model\n",
    " - Nate: Presentation\n",
    " - Cameron: Paper, Project Structure, Prioritized Replay Memory\n",
    " \n"
   ]
  },
  {
   "cell_type": "markdown",
   "metadata": {},
   "source": [
    "## Mar. 31, Milestone 2"
   ]
  },
  {
   "cell_type": "markdown",
   "metadata": {},
   "source": [
    "|Deliverable | Percent Complete | Estimated Completion Date | Percent Complete by Next Milestone |\n",
    "|-----------:|-----------------:|---------------:|-----------:|\n",
    "|Code        |               75%|           Apr 7| 100%        |\n",
    "|Paper| 30%| Apr 21| 50%|\n",
    "|Demo|0%|May 1| 10%|\n",
    "|Presentation|20%|May 5| 35%|"
   ]
  },
  {
   "cell_type": "markdown",
   "metadata": {},
   "source": [
    "## Questions"
   ]
  },
  {
   "cell_type": "markdown",
   "metadata": {},
   "source": [
    "1. Of our goals listed, we achieved the following:\n",
    " - Uniform Replay Memory\n",
    " - Huber Loss\n",
    " - Some utilities added\n",
    " - DQN Model\n",
    " - Progress on Presentation Structure and Information\n",
    " - Progress on Paper\n",
    " - Project Structure Organized\n",
    " - Prioritized Replay Memory\n",
    " \n",
    " We feel that we achieved more than we had expected to, but with better time management could have achieved all goals.\n",
    " \n",
    "2. Of our goals listed, we failed to achieve the following:\n",
    " - Some necessary utilities were not yet added (Mainly saving and loading of model weights)\n",
    " - Tuning of DQN Model not perfected (Structure, layer width, convolution coverage)\n",
    " - Optimization of hyperparameters\n",
    " \n",
    " Admittedly, tuning and optimization are long-term goals, but we were unable to approach these in any form during this period.\n",
    " \n",
    "3. Goals each member will work towards:\n",
    " - Nate and Justin: Presentation\n",
    " - Chris: Saving, Loading, Further Utilities\n",
    " - Ian and Jonathan: Optimizations and Demo Planning\n",
    " - Cameron: Paper\n",
    " - Nate, Justin, Cameron: Double Q-Learning"
   ]
  },
  {
   "cell_type": "markdown",
   "metadata": {},
   "source": [
    "## Apr. 14, Milestone 3"
   ]
  },
  {
   "cell_type": "markdown",
   "metadata": {},
   "source": [
    "|Deliverable | Percent Complete | Estimated Completion Date | Percent Complete by Next Milestone |\n",
    "|-----------:|-----------------:|---------------:|-----------:|\n",
    "|Code        |               100%|           Apr 7| 100%        |\n",
    "|Paper| 50%| Apr 21| 100%|\n",
    "|Demo|20%|May 1| 50%|\n",
    "|Presentation|40%|May 5| 70%|"
   ]
  },
  {
   "cell_type": "markdown",
   "metadata": {},
   "source": [
    "1. Of our goals listed, we achieved the following:\n",
    " - Successfully reached an acceptable optimization level for hyperparameters\n",
    " - Completed more of the presentation than expected\n",
    " - Implemented Double Q-Learning for Uniform and Prioritized\n",
    " - Further completed parts of the paper and prepared to finish it\n",
    " - Further outlined details for demo\n",
    " - Implemented Saving and loading of weights as well as logging of all output\n",
    " \n",
    " We feel that we achieved more than we had expected to, but with better time management could have achieved all goals.\n",
    " \n",
    "2. Of our goals listed, we failed to achieve the following:\n",
    " - Due to time constraints among team members, frame-skipping was not implemented, however this was always an extra goal.\n",
    " \n",
    " \n",
    "3. Goals each member will work towards:\n",
    " - Nate, Justin, Ian: Presentation\n",
    " - Cameron, Chris, Jonathan: Paper\n",
    " - All: Demo Planning\n",
    " - All: Further gathering testing results"
   ]
  },
  {
   "cell_type": "markdown",
   "metadata": {},
   "source": [
    "## Apr. 28, Milestone 4"
   ]
  },
  {
   "cell_type": "markdown",
   "metadata": {},
   "source": [
    "|Deliverable | Percent Complete | Estimated Completion Date | Percent Complete by Next Milestone |\n",
    "|-----------:|-----------------:|---------------:|-----------:|\n",
    "|Code        |               100%|           Apr 7| 100%        |\n",
    "|Paper| 100%| Apr 21| 100%|\n",
    "|Demo|80%|May 1| 100%|\n",
    "|Presentation|90%|May 5| 100%|"
   ]
  },
  {
   "cell_type": "markdown",
   "metadata": {},
   "source": [
    "1. Of our goals listed, we achieved the following:\n",
    " - Completion of code and network training\n",
    " - Finalized paper\n",
    " - Presentation organized and brought closer to completion\n",
    " - Majority of the demo is finished\n",
    "\n",
    "We feel that since we finished the paper, our largest goal for this milestone, we greatly improved our time management from last milestone.\n",
    "\n",
    "2. Of our goals listed, we did not fail to achieve any goals listed above.\n",
    "\n",
    "3. Goals each memeber will work towards:\n",
    " - All: Demo\n",
    " - All: Presentation"
   ]
  },
  {
   "cell_type": "code",
   "execution_count": null,
   "metadata": {},
   "outputs": [],
   "source": []
  }
 ],
 "metadata": {
  "kernelspec": {
   "display_name": "Python 3",
   "language": "python",
   "name": "python3"
  },
  "language_info": {
   "codemirror_mode": {
    "name": "ipython",
    "version": 3
   },
   "file_extension": ".py",
   "mimetype": "text/x-python",
   "name": "python",
   "nbconvert_exporter": "python",
   "pygments_lexer": "ipython3",
   "version": "3.8.2"
  },
  "name": "ProjectMilestones.ipynb"
 },
 "nbformat": 4,
 "nbformat_minor": 2
}
