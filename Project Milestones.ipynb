{
 "cells": [
  {
   "cell_type": "markdown",
   "metadata": {},
   "source": [
    "# Project Milestones"
   ]
  },
  {
   "cell_type": "markdown",
   "metadata": {},
   "source": [
    "---------------"
   ]
  },
  {
   "cell_type": "markdown",
   "metadata": {},
   "source": [
    "## Mar. 24"
   ]
  },
  {
   "cell_type": "markdown",
   "metadata": {},
   "source": [
    "|Deliverable | Percent Complete | Estimated Completion Date | Percent Complete by Next Milestone |\n",
    "|-----------:|-----------------:|---------------:|-----------:|\n",
    "|Code        |               30%|           Apr 2| 75%        |\n",
    "|Paper| 10%| Apr 21| 30%|\n",
    "|Demo|0%|May 1| 0%|\n",
    "|Presentation|10%|May 5| 20%|"
   ]
  },
  {
   "cell_type": "markdown",
   "metadata": {},
   "source": [
    "## Questions"
   ]
  },
  {
   "cell_type": "markdown",
   "metadata": {},
   "source": [
    "1. So far, we have a project structure setup\n",
    "2. This is the first milestone report.\n",
    "3. Goals each member will work towards:\n",
    " - Nate and Justin: Uniform Replay Memory\n",
    " - Chris: Huber Loss and Utilities \n",
    " - Ian and Jonathan: DQN Model\n",
    " - Nate: Presentation\n",
    " - Cameron: Paper, Project Structure, Prioritized Replay Memory\n",
    " \n"
   ]
  }
 ],
 "metadata": {
  "kernelspec": {
   "display_name": "Python 3",
   "language": "python",
   "name": "python3"
  },
  "language_info": {
   "codemirror_mode": {
    "name": "ipython",
    "version": 3
   },
   "file_extension": ".py",
   "mimetype": "text/x-python",
   "name": "python",
   "nbconvert_exporter": "python",
   "pygments_lexer": "ipython3",
   "version": "3.8.2"
  }
 },
 "nbformat": 4,
 "nbformat_minor": 2
}
